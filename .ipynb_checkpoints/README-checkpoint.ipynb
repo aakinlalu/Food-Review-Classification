{
 "cells": [
  {
   "cell_type": "markdown",
   "metadata": {},
   "source": [
    "### What does the application do?\n",
    "The Review Sentiment is a supervised machine learning cli application that identifies if a review has postive (1) or negative (0) sentiment with probability score."
   ]
  },
  {
   "cell_type": "markdown",
   "metadata": {},
   "source": [
    "### How to install it\n",
    "From the project directory in terminal:  \n",
    "1. create python enviroment using conda or venv\n",
    "2. ***pip install -r requirement.txt***"
   ]
  },
  {
   "cell_type": "markdown",
   "metadata": {},
   "source": [
    "### Example Dev Usage\n",
    "1. from RUBIX directory cd food_review\n",
    "2. Try to use help undertand the cli  \n",
    "   ***python sentiment_cli.py --help***\n",
    "   \n",
    "   Usage: sentiment_cli.py [OPTIONS] COMMAND [ARGS]...\n",
    "\n",
    "   Options:\n",
    "      --help  Show this message and exit.\n",
    "\n",
    "   Commands:  \n",
    "     metrics  \n",
    "     metricsvisualizer  \n",
    "     predict  \n",
    "     \n",
    "3. To use it to predict: \n",
    "    1. Try with predict help:  \n",
    "    \n",
    "        ***python sentiment_cli.py  predict --help***\n",
    "        \n",
    "        Usage: sentiment_cli.py predict [OPTIONS]\n",
    "\n",
    "       Options:\n",
    "       \n",
    "       --text TEXT  it can be single text review or text file with review with\n",
    "               .txt/.csv\n",
    "       --help       Show this message and exit.\n",
    "       \n",
    "    2.  Try to use predict \"I do not like rice anymore\":  \n",
    "    \n",
    "          ***python sentiment_cli.py predict --text=\"I do not like rice anymore\"***\n",
    "          \n",
    "          Verbatism: I do not like rice anymore\n",
    "          Sentiment Value: 0\n",
    "          Sentiment score: 0.42%\n",
    "          \n",
    "4. To check the metrics of the model:\n",
    "   1. Check out help:  \n",
    "      ***python sentiment_cli.py metrics --help***\n",
    "      \n",
    "      Usage: sentiment_cli.py metrics [OPTIONS]\n",
    "\n",
    "       Options:\n",
    "         --metric [all|accuracy|auc_score|f1_score]\n",
    "                                  Select which metrics you want to see\n",
    "         --help                          Show this message and exit.\n",
    "   2. Check all the metrics: \n",
    "   \n",
    "       ***python sentiment_cli.py metrics --metric=all***\n",
    "       \n",
    "       {'auc_score': 0.76, 'Accuracy': 0.76, 'f1_score': 0.75}"
   ]
  },
  {
   "cell_type": "markdown",
   "metadata": {},
   "source": [
    "### Build it\n",
    "from RUBIX directory:  \n",
    "    ***python setup.py develop***"
   ]
  },
  {
   "cell_type": "code",
   "execution_count": null,
   "metadata": {},
   "outputs": [],
   "source": []
  },
  {
   "cell_type": "code",
   "execution_count": null,
   "metadata": {},
   "outputs": [],
   "source": []
  }
 ],
 "metadata": {
  "kernelspec": {
   "display_name": "Python 3",
   "language": "python",
   "name": "python3"
  },
  "language_info": {
   "codemirror_mode": {
    "name": "ipython",
    "version": 3
   },
   "file_extension": ".py",
   "mimetype": "text/x-python",
   "name": "python",
   "nbconvert_exporter": "python",
   "pygments_lexer": "ipython3",
   "version": "3.7.1"
  }
 },
 "nbformat": 4,
 "nbformat_minor": 2
}
